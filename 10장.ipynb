{
  "nbformat": 4,
  "nbformat_minor": 0,
  "metadata": {
    "colab": {
      "name": "10장.ipynb",
      "provenance": [],
      "collapsed_sections": [],
      "mount_file_id": "1qXO9IBm_FgE6SKiVal7vee4mjNtNRfRH",
      "authorship_tag": "ABX9TyMo1T42wq2oEuJVNVWeZFUr",
      "include_colab_link": true
    },
    "kernelspec": {
      "name": "python3",
      "display_name": "Python 3"
    }
  },
  "cells": [
    {
      "cell_type": "markdown",
      "metadata": {
        "id": "view-in-github",
        "colab_type": "text"
      },
      "source": [
        "<a href=\"https://colab.research.google.com/github/ljaeyun/python/blob/master/10%EC%9E%A5.ipynb\" target=\"_parent\"><img src=\"https://colab.research.google.com/assets/colab-badge.svg\" alt=\"Open In Colab\"/></a>"
      ]
    },
    {
      "cell_type": "code",
      "metadata": {
        "id": "I3_z1VUoNZbu"
      },
      "source": [
        "import sqlite3"
      ],
      "execution_count": 1,
      "outputs": []
    },
    {
      "cell_type": "code",
      "metadata": {
        "colab": {
          "base_uri": "https://localhost:8080/",
          "height": 35
        },
        "id": "IiCzNrIANeD3",
        "outputId": "3afe8311-6fa6-4d40-c7a5-3d0cb0485f9e"
      },
      "source": [
        "sqlite3.sqlite_version"
      ],
      "execution_count": 2,
      "outputs": [
        {
          "output_type": "execute_result",
          "data": {
            "application/vnd.google.colaboratory.intrinsic+json": {
              "type": "string"
            },
            "text/plain": [
              "'3.22.0'"
            ]
          },
          "metadata": {
            "tags": []
          },
          "execution_count": 2
        }
      ]
    },
    {
      "cell_type": "code",
      "metadata": {
        "id": "Yrt2VI8UNg02"
      },
      "source": [
        "conn = sqlite3.connect('example.db')"
      ],
      "execution_count": 12,
      "outputs": []
    },
    {
      "cell_type": "code",
      "metadata": {
        "colab": {
          "base_uri": "https://localhost:8080/"
        },
        "id": "Gq-epVvQNjRm",
        "outputId": "98b0a69e-f6dc-4933-c7cc-d053478f7d2c"
      },
      "source": [
        "conn"
      ],
      "execution_count": 13,
      "outputs": [
        {
          "output_type": "execute_result",
          "data": {
            "text/plain": [
              "<sqlite3.Connection at 0x7f738b87c9d0>"
            ]
          },
          "metadata": {
            "tags": []
          },
          "execution_count": 13
        }
      ]
    },
    {
      "cell_type": "code",
      "metadata": {
        "id": "dRXWJ5u3NyLu"
      },
      "source": [
        "cur = conn.cursor()"
      ],
      "execution_count": 14,
      "outputs": []
    },
    {
      "cell_type": "code",
      "metadata": {
        "colab": {
          "base_uri": "https://localhost:8080/"
        },
        "id": "Pq9xMNq9N2OV",
        "outputId": "d0dd9b7f-bf99-4086-f486-ffa7b3edffdb"
      },
      "source": [
        "cur"
      ],
      "execution_count": 15,
      "outputs": [
        {
          "output_type": "execute_result",
          "data": {
            "text/plain": [
              "<sqlite3.Cursor at 0x7f738b105880>"
            ]
          },
          "metadata": {
            "tags": []
          },
          "execution_count": 15
        }
      ]
    },
    {
      "cell_type": "code",
      "metadata": {
        "colab": {
          "base_uri": "https://localhost:8080/"
        },
        "id": "cEdkzXxlN2qe",
        "outputId": "f53f9663-9fe5-40ab-e795-35dc699b375e"
      },
      "source": [
        "sql = \"\"\"\r\n",
        "create table contact(\r\n",
        "  name text, \r\n",
        "  age int, \r\n",
        "  email text)\r\n",
        "\"\"\"\r\n",
        "cur.execute(sql)"
      ],
      "execution_count": 16,
      "outputs": [
        {
          "output_type": "execute_result",
          "data": {
            "text/plain": [
              "<sqlite3.Cursor at 0x7f738b105880>"
            ]
          },
          "metadata": {
            "tags": []
          },
          "execution_count": 16
        }
      ]
    },
    {
      "cell_type": "code",
      "metadata": {
        "colab": {
          "base_uri": "https://localhost:8080/"
        },
        "id": "vQDGrd_9OCot",
        "outputId": "c95a310e-7155-46c5-8224-4a0e9003ed6f"
      },
      "source": [
        "conn.execute(\"insert into contact values('kim', 20, 'kim@naver.com')\")"
      ],
      "execution_count": 18,
      "outputs": [
        {
          "output_type": "execute_result",
          "data": {
            "text/plain": [
              "<sqlite3.Cursor at 0x7f738b78ce30>"
            ]
          },
          "metadata": {
            "tags": []
          },
          "execution_count": 18
        }
      ]
    },
    {
      "cell_type": "code",
      "metadata": {
        "id": "mKk-Hh0UO0kW"
      },
      "source": [
        "try:\r\n",
        "  cur.execute(\"insert into contact values('kim', 20, 'kim@naver.com')\")\r\n",
        "  conn.commit();\r\n",
        "except:\r\n",
        "  conn.rollback()"
      ],
      "execution_count": 20,
      "outputs": []
    },
    {
      "cell_type": "code",
      "metadata": {
        "id": "RWtXEnjOPe7-"
      },
      "source": [
        "conn.close()"
      ],
      "execution_count": 22,
      "outputs": []
    },
    {
      "cell_type": "code",
      "metadata": {
        "id": "sRfuxKTMPnQm"
      },
      "source": [
        ""
      ],
      "execution_count": null,
      "outputs": []
    },
    {
      "cell_type": "markdown",
      "metadata": {
        "id": "ltohvwkLRCG_"
      },
      "source": [
        "# 저장된 데이터 불러오기"
      ]
    },
    {
      "cell_type": "code",
      "metadata": {
        "id": "aoz1ij4iREW-"
      },
      "source": [
        "conn = sqlite3.connect('example.db')"
      ],
      "execution_count": 34,
      "outputs": []
    },
    {
      "cell_type": "code",
      "metadata": {
        "id": "LB-AXIqWRbiH"
      },
      "source": [
        "cur = conn.cursor()"
      ],
      "execution_count": 35,
      "outputs": []
    },
    {
      "cell_type": "code",
      "metadata": {
        "id": "X6Cdm_QNRc-m"
      },
      "source": [
        "sql = 'select * from contact'"
      ],
      "execution_count": 36,
      "outputs": []
    },
    {
      "cell_type": "code",
      "metadata": {
        "colab": {
          "base_uri": "https://localhost:8080/"
        },
        "id": "rDb6G4PDRfVO",
        "outputId": "a899d514-4b42-4c2f-bd7a-d74ad54c5124"
      },
      "source": [
        "cur.execute(sql)"
      ],
      "execution_count": 37,
      "outputs": [
        {
          "output_type": "execute_result",
          "data": {
            "text/plain": [
              "<sqlite3.Cursor at 0x7f738a86cb20>"
            ]
          },
          "metadata": {
            "tags": []
          },
          "execution_count": 37
        }
      ]
    },
    {
      "cell_type": "code",
      "metadata": {
        "colab": {
          "base_uri": "https://localhost:8080/"
        },
        "id": "m385PrG2Rg5t",
        "outputId": "9252641d-fc45-4960-8f16-646d69038791"
      },
      "source": [
        "for row in cur:\r\n",
        "  print(row)"
      ],
      "execution_count": 38,
      "outputs": [
        {
          "output_type": "stream",
          "text": [
            "('kim', 20, 'kim@naver.com')\n",
            "('kim', 20, 'kim@naver.com')\n",
            "('kim', 20, 'kim@naver.com')\n"
          ],
          "name": "stdout"
        }
      ]
    },
    {
      "cell_type": "code",
      "metadata": {
        "id": "VSh_95LRRzr2"
      },
      "source": [
        "# 1. connection 객체를얻는다\r\n",
        "# 2. cursor 객체를 얻는다\r\n",
        "# 3. sql 구문을 작성한다\r\n",
        "# 4. cursor 객체로 execute 메서드를 실행\r\n",
        "# 5. select의 경우 fetch, insert, update, delete 의 경우 commit 또는 rollback 함\r\n",
        "# 6. connection 객체를 닫는다"
      ],
      "execution_count": 39,
      "outputs": []
    },
    {
      "cell_type": "code",
      "metadata": {
        "colab": {
          "base_uri": "https://localhost:8080/"
        },
        "id": "h4FI2IMFSJEl",
        "outputId": "a089c33e-79ea-4790-d8af-7797c58719ea"
      },
      "source": [
        "cur.execute(\"select * from contact\")\r\n",
        "cur.fetchone()"
      ],
      "execution_count": 41,
      "outputs": [
        {
          "output_type": "execute_result",
          "data": {
            "text/plain": [
              "('kim', 20, 'kim@naver.com')"
            ]
          },
          "metadata": {
            "tags": []
          },
          "execution_count": 41
        }
      ]
    },
    {
      "cell_type": "code",
      "metadata": {
        "colab": {
          "base_uri": "https://localhost:8080/"
        },
        "id": "2N68HfyZTc1m",
        "outputId": "a2a8f06c-4f8b-4c14-9815-a0b47c5db1e0"
      },
      "source": [
        "cur.fetchall()"
      ],
      "execution_count": 42,
      "outputs": [
        {
          "output_type": "execute_result",
          "data": {
            "text/plain": [
              "[('kim', 20, 'kim@naver.com'), ('kim', 20, 'kim@naver.com')]"
            ]
          },
          "metadata": {
            "tags": []
          },
          "execution_count": 42
        }
      ]
    },
    {
      "cell_type": "markdown",
      "metadata": {
        "id": "D6eEj3LHT-MO"
      },
      "source": [
        "# SQL 구문에 파라미터 사용하기"
      ]
    },
    {
      "cell_type": "code",
      "metadata": {
        "colab": {
          "base_uri": "https://localhost:8080/"
        },
        "id": "zAdoREqhTtRN",
        "outputId": "77c0b163-9c78-4e8a-ffbb-e828678b6fda"
      },
      "source": [
        "cur.execute(\"select * from contact where email=?\", (\"kim@naver.com\",))\r\n",
        "cur.fetchall()"
      ],
      "execution_count": 43,
      "outputs": [
        {
          "output_type": "execute_result",
          "data": {
            "text/plain": [
              "[('kim', 20, 'kim@naver.com'),\n",
              " ('kim', 20, 'kim@naver.com'),\n",
              " ('kim', 20, 'kim@naver.com')]"
            ]
          },
          "metadata": {
            "tags": []
          },
          "execution_count": 43
        }
      ]
    },
    {
      "cell_type": "code",
      "metadata": {
        "colab": {
          "base_uri": "https://localhost:8080/"
        },
        "id": "8ocHNqmVT6hN",
        "outputId": "00828901-26fa-4dba-e19e-2709b60cc61b"
      },
      "source": [
        "user_email = \"kim@naver.com\"\r\n",
        "cur.execute(\"select * from contact where email=:email\",{\"email\":user_email})\r\n",
        "cur.fetchall()"
      ],
      "execution_count": 45,
      "outputs": [
        {
          "output_type": "execute_result",
          "data": {
            "text/plain": [
              "[('kim', 20, 'kim@naver.com'),\n",
              " ('kim', 20, 'kim@naver.com'),\n",
              " ('kim', 20, 'kim@naver.com')]"
            ]
          },
          "metadata": {
            "tags": []
          },
          "execution_count": 45
        }
      ]
    },
    {
      "cell_type": "code",
      "metadata": {
        "colab": {
          "base_uri": "https://localhost:8080/"
        },
        "id": "rNLUljgaUHAo",
        "outputId": "75772467-7127-4852-d16e-034271011b6b"
      },
      "source": [
        "cur.execute(\"update contact set name='애옹' where email='kim@naver.com'\")"
      ],
      "execution_count": 48,
      "outputs": [
        {
          "output_type": "execute_result",
          "data": {
            "text/plain": [
              "<sqlite3.Cursor at 0x7f738a86cb20>"
            ]
          },
          "metadata": {
            "tags": []
          },
          "execution_count": 48
        }
      ]
    },
    {
      "cell_type": "code",
      "metadata": {
        "colab": {
          "base_uri": "https://localhost:8080/"
        },
        "id": "jVzwYX0daBoV",
        "outputId": "71d5e711-21e2-4767-89c5-2ed353c52159"
      },
      "source": [
        "cur.execute(\"select * from contact\")"
      ],
      "execution_count": 49,
      "outputs": [
        {
          "output_type": "execute_result",
          "data": {
            "text/plain": [
              "<sqlite3.Cursor at 0x7f738a86cb20>"
            ]
          },
          "metadata": {
            "tags": []
          },
          "execution_count": 49
        }
      ]
    },
    {
      "cell_type": "code",
      "metadata": {
        "colab": {
          "base_uri": "https://localhost:8080/"
        },
        "id": "c0x9OhGhaLPN",
        "outputId": "fe837fd9-6ed0-4efa-f143-47407672dfe2"
      },
      "source": [
        "cur.fetchall()"
      ],
      "execution_count": 50,
      "outputs": [
        {
          "output_type": "execute_result",
          "data": {
            "text/plain": [
              "[('애옹', 20, 'kim@naver.com'),\n",
              " ('애옹', 20, 'kim@naver.com'),\n",
              " ('애옹', 20, 'kim@naver.com')]"
            ]
          },
          "metadata": {
            "tags": []
          },
          "execution_count": 50
        }
      ]
    },
    {
      "cell_type": "code",
      "metadata": {
        "id": "FqQjnif-aNN9"
      },
      "source": [
        ""
      ],
      "execution_count": 50,
      "outputs": []
    },
    {
      "cell_type": "code",
      "metadata": {
        "id": "sOlHbsK5hQQ1"
      },
      "source": [
        ""
      ],
      "execution_count": 50,
      "outputs": []
    },
    {
      "cell_type": "code",
      "metadata": {
        "colab": {
          "base_uri": "https://localhost:8080/"
        },
        "id": "VhocTJkihQV0",
        "outputId": "96c9e9b2-fceb-4227-f89e-e18441403936"
      },
      "source": [
        "! pip install cx_oracle"
      ],
      "execution_count": 51,
      "outputs": [
        {
          "output_type": "stream",
          "text": [
            "Collecting cx_oracle\n",
            "\u001b[?25l  Downloading https://files.pythonhosted.org/packages/87/fb/a7695553a831e79bec8d201211b489fa4c6e44d3c53828a94405ae184ca6/cx_Oracle-8.1.0-cp36-cp36m-manylinux1_x86_64.whl (803kB)\n",
            "\u001b[K     |████████████████████████████████| 808kB 5.5MB/s \n",
            "\u001b[?25hInstalling collected packages: cx-oracle\n",
            "Successfully installed cx-oracle-8.1.0\n"
          ],
          "name": "stdout"
        }
      ]
    },
    {
      "cell_type": "code",
      "metadata": {
        "id": "GQL171nthUBU"
      },
      "source": [
        "import cx_Oracle"
      ],
      "execution_count": 52,
      "outputs": []
    },
    {
      "cell_type": "code",
      "metadata": {
        "colab": {
          "base_uri": "https://localhost:8080/",
          "height": 35
        },
        "id": "PAeJJZgShzKc",
        "outputId": "ed1da3c0-1c7f-480b-80cb-bcb0facfe82a"
      },
      "source": [
        "cx_Oracle.__version__"
      ],
      "execution_count": 53,
      "outputs": [
        {
          "output_type": "execute_result",
          "data": {
            "application/vnd.google.colaboratory.intrinsic+json": {
              "type": "string"
            },
            "text/plain": [
              "'8.1.0'"
            ]
          },
          "metadata": {
            "tags": []
          },
          "execution_count": 53
        }
      ]
    },
    {
      "cell_type": "code",
      "metadata": {
        "id": "nVpqViuEh2Nz"
      },
      "source": [
        "dsn = cx_Oracle.makedsn('localhost', 1521, sid='xe')"
      ],
      "execution_count": 62,
      "outputs": []
    },
    {
      "cell_type": "code",
      "metadata": {
        "colab": {
          "base_uri": "https://localhost:8080/",
          "height": 53
        },
        "id": "odNcXmbil4IT",
        "outputId": "1356cb7f-50ea-48f9-aa35-026d4e9b4ec8"
      },
      "source": [
        "dsn"
      ],
      "execution_count": 68,
      "outputs": [
        {
          "output_type": "execute_result",
          "data": {
            "application/vnd.google.colaboratory.intrinsic+json": {
              "type": "string"
            },
            "text/plain": [
              "'(DESCRIPTION=(ADDRESS=(PROTOCOL=TCP)(HOST=localhost)(PORT=1521))(CONNECT_DATA=(SID=xe)))'"
            ]
          },
          "metadata": {
            "tags": []
          },
          "execution_count": 68
        }
      ]
    },
    {
      "cell_type": "code",
      "metadata": {
        "colab": {
          "base_uri": "https://localhost:8080/",
          "height": 208
        },
        "id": "9s3Oui3El64r",
        "outputId": "a69e855c-c7dd-4e2b-b99d-6f43dc7d0a6c"
      },
      "source": [
        "conn = cx_Oracle.connect(dsn=dsn, user='hr',password='12345')"
      ],
      "execution_count": 69,
      "outputs": [
        {
          "output_type": "error",
          "ename": "DatabaseError",
          "evalue": "ignored",
          "traceback": [
            "\u001b[0;31m---------------------------------------------------------------------------\u001b[0m",
            "\u001b[0;31mDatabaseError\u001b[0m                             Traceback (most recent call last)",
            "\u001b[0;32m<ipython-input-69-8c8f8d8de31f>\u001b[0m in \u001b[0;36m<module>\u001b[0;34m()\u001b[0m\n\u001b[0;32m----> 1\u001b[0;31m \u001b[0mconn\u001b[0m \u001b[0;34m=\u001b[0m \u001b[0mcx_Oracle\u001b[0m\u001b[0;34m.\u001b[0m\u001b[0mconnect\u001b[0m\u001b[0;34m(\u001b[0m\u001b[0mdsn\u001b[0m\u001b[0;34m=\u001b[0m\u001b[0mdsn\u001b[0m\u001b[0;34m,\u001b[0m \u001b[0muser\u001b[0m\u001b[0;34m=\u001b[0m\u001b[0;34m'hr'\u001b[0m\u001b[0;34m,\u001b[0m\u001b[0mpassword\u001b[0m\u001b[0;34m=\u001b[0m\u001b[0;34m'12345'\u001b[0m\u001b[0;34m)\u001b[0m\u001b[0;34m\u001b[0m\u001b[0;34m\u001b[0m\u001b[0m\n\u001b[0m",
            "\u001b[0;31mDatabaseError\u001b[0m: DPI-1047: Cannot locate a 64-bit Oracle Client library: \"libclntsh.so: cannot open shared object file: No such file or directory\". See https://cx-oracle.readthedocs.io/en/latest/user_guide/installation.html for help"
          ]
        }
      ]
    },
    {
      "cell_type": "code",
      "metadata": {
        "colab": {
          "base_uri": "https://localhost:8080/"
        },
        "id": "N9E80RKemUwT",
        "outputId": "67383517-d70c-40e6-f535-9ec5329cdc73"
      },
      "source": [
        "pip install cx_Oracle --upgrade"
      ],
      "execution_count": 60,
      "outputs": [
        {
          "output_type": "stream",
          "text": [
            "Requirement already up-to-date: cx_Oracle in /usr/local/lib/python3.6/dist-packages (8.1.0)\n"
          ],
          "name": "stdout"
        }
      ]
    },
    {
      "cell_type": "code",
      "metadata": {
        "colab": {
          "base_uri": "https://localhost:8080/"
        },
        "id": "s8Zg2lylnUxL",
        "outputId": "1c0f8fe5-3808-4ddb-ce42-e0bab25d5ce4"
      },
      "source": [
        "pip install cx_Oracle --upgrade --user"
      ],
      "execution_count": 61,
      "outputs": [
        {
          "output_type": "stream",
          "text": [
            "Requirement already up-to-date: cx_Oracle in /usr/local/lib/python3.6/dist-packages (8.1.0)\n"
          ],
          "name": "stdout"
        }
      ]
    },
    {
      "cell_type": "code",
      "metadata": {
        "id": "5H-s7WaMnYQU"
      },
      "source": [
        ""
      ],
      "execution_count": null,
      "outputs": []
    }
  ]
}