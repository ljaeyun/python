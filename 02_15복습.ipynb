{
  "nbformat": 4,
  "nbformat_minor": 0,
  "metadata": {
    "colab": {
      "name": "02-15복습.ipynb",
      "provenance": [],
      "collapsed_sections": [],
      "authorship_tag": "ABX9TyMwYT5IGukTH8r5aWHqKGpY",
      "include_colab_link": true
    },
    "kernelspec": {
      "name": "python3",
      "display_name": "Python 3"
    }
  },
  "cells": [
    {
      "cell_type": "markdown",
      "metadata": {
        "id": "view-in-github",
        "colab_type": "text"
      },
      "source": [
        "<a href=\"https://colab.research.google.com/github/ljaeyun/python/blob/master/02_15%EB%B3%B5%EC%8A%B5.ipynb\" target=\"_parent\"><img src=\"https://colab.research.google.com/assets/colab-badge.svg\" alt=\"Open In Colab\"/></a>"
      ]
    },
    {
      "cell_type": "code",
      "metadata": {
        "id": "epDSEfv4jDHr"
      },
      "source": [
        "class Member:\r\n",
        "  def __init__(self, name, age, email, address):\r\n",
        "    self.name = name\r\n",
        "    self.age = age\r\n",
        "    self.email = email\r\n",
        "    self.address =address\r\n",
        "\r\n",
        "  def __str__(self):\r\n",
        "    return \"Name:{}, Age:{}, Email2:{}, Address:{}\".format(self.name, self.age, self.email, self.address)"
      ],
      "execution_count": 20,
      "outputs": []
    },
    {
      "cell_type": "code",
      "metadata": {
        "id": "ytQ85i-iB6XH"
      },
      "source": [
        "user1 = Member(\"애옹\",2,\"cat@cat.com\",\"meow\")\r\n",
        "user2 = Member(\"멍뭉\",1,\"dog@dog.com\",\"baw\")\r\n",
        "user_list=[user1, user2]"
      ],
      "execution_count": 21,
      "outputs": []
    },
    {
      "cell_type": "code",
      "metadata": {
        "colab": {
          "base_uri": "https://localhost:8080/"
        },
        "id": "OHnRD3A1HYOP",
        "outputId": "84f318b5-64dd-4f23-b2a4-bcf72805ff2a"
      },
      "source": [
        "print(user1)"
      ],
      "execution_count": 22,
      "outputs": [
        {
          "output_type": "stream",
          "text": [
            "Name:애옹, Age:2, Email2:cat@cat.com, Address:meow\n"
          ],
          "name": "stdout"
        }
      ]
    },
    {
      "cell_type": "code",
      "metadata": {
        "id": "tzU_FE5vCKaA"
      },
      "source": [
        "f = open(\"member.data\",\"wb\")\r\n",
        "import pickle\r\n",
        "pickle.dump(user_list,f)\r\n",
        "f.close()"
      ],
      "execution_count": null,
      "outputs": []
    },
    {
      "cell_type": "code",
      "metadata": {
        "id": "4yU9NSsuCTEX"
      },
      "source": [
        ""
      ],
      "execution_count": null,
      "outputs": []
    },
    {
      "cell_type": "code",
      "metadata": {
        "colab": {
          "base_uri": "https://localhost:8080/"
        },
        "id": "g2Ij5UzqCtsI",
        "outputId": "dbf551f4-8225-479b-86c1-302a603adf8a"
      },
      "source": [
        "del user_list\r\n",
        "import pickle\r\n",
        "f= open(\"member.data\", \"rb\")\r\n",
        "user_list = pickle.load(f)\r\n",
        "type(user_list)"
      ],
      "execution_count": null,
      "outputs": [
        {
          "output_type": "execute_result",
          "data": {
            "text/plain": [
              "list"
            ]
          },
          "metadata": {
            "tags": []
          },
          "execution_count": 4
        }
      ]
    },
    {
      "cell_type": "code",
      "metadata": {
        "colab": {
          "base_uri": "https://localhost:8080/"
        },
        "id": "EsZvsKh4C0tv",
        "outputId": "293aa0cf-0e33-4da7-c5a3-6afc31a045a7"
      },
      "source": [
        "for user in user_list:\r\n",
        "  print(user)\r\n",
        "f.close()"
      ],
      "execution_count": null,
      "outputs": [
        {
          "output_type": "stream",
          "text": [
            "Name:애옹, Age:2, Email:cat@cat.com, Address:meow\n",
            "Name:멍뭉, Age:1, Email:dog@dog.com, Address:baw\n"
          ],
          "name": "stdout"
        }
      ]
    },
    {
      "cell_type": "code",
      "metadata": {
        "colab": {
          "base_uri": "https://localhost:8080/"
        },
        "id": "mfkjD69kDJnv",
        "outputId": "7e87d2bd-221f-4bae-ec01-a07f852db789"
      },
      "source": [
        "import csv\r\n",
        "with open('member1.csv', 'r', encoding=\"UTF8\") as f:\r\n",
        "  r = csv.reader(f)\r\n",
        "  for row in r:\r\n",
        "    print(row)\r\n"
      ],
      "execution_count": null,
      "outputs": [
        {
          "output_type": "stream",
          "text": [
            "['멍뭉이', '2', 'dog@dog.com', '멍뭉']\n",
            "['애옹이', '4', 'cat@cat.com', '애옹']\n"
          ],
          "name": "stdout"
        }
      ]
    },
    {
      "cell_type": "code",
      "metadata": {
        "colab": {
          "base_uri": "https://localhost:8080/"
        },
        "id": "lXjhqx-uEJC_",
        "outputId": "1d24fe1e-e1cc-4fe6-da69-fb9cce2ddef7"
      },
      "source": [
        "import csv\r\n",
        "with open('member1.csv','r',encoding=\"UTF8\") as f:\r\n",
        "  r = csv.reader(f, quotechar='\"', quoting=csv.QUOTE_NONNUMERIC)\r\n",
        "  for row in r:\r\n",
        "    print(row)"
      ],
      "execution_count": null,
      "outputs": [
        {
          "output_type": "stream",
          "text": [
            "['멍뭉이', 2.0, 'dog@dog.com', '멍뭉']\n",
            "['애옹이', 4.0, 'cat@cat.com', '애옹']\n"
          ],
          "name": "stdout"
        }
      ]
    },
    {
      "cell_type": "code",
      "metadata": {
        "id": "6hptUc_YEnsW"
      },
      "source": [
        "user_list = [['비둘기',4.4,'pigeons@pi.com','구구'],\r\n",
        "             ['빅애옹',3.4,'lion@lion.com','어흥']]"
      ],
      "execution_count": null,
      "outputs": []
    },
    {
      "cell_type": "code",
      "metadata": {
        "id": "UjvK5J8pFgx3"
      },
      "source": [
        "import csv\r\n",
        "with open('member2.csv', 'w',newline='',encoding='UTF8') as f:\r\n",
        "  w = csv.writer(f)\r\n",
        "  w.writerows(user_list)"
      ],
      "execution_count": null,
      "outputs": []
    },
    {
      "cell_type": "code",
      "metadata": {
        "id": "Hvvm5hRKFvoe",
        "colab": {
          "base_uri": "https://localhost:8080/"
        },
        "outputId": "d918e0e1-bf95-49bc-b24e-47f3ceb3c3c6"
      },
      "source": [
        "import csv\r\n",
        "with open('member1.csv', 'r', encoding=\"UTF8\") as f:\r\n",
        "  r = csv.reader(f)\r\n",
        "  for row in r:\r\n",
        "    print(row)\r\n"
      ],
      "execution_count": 23,
      "outputs": [
        {
          "output_type": "stream",
          "text": [
            "['비둘기', '4.4', 'pigeons@pi.com', '구구']\n",
            "['빅애옹', '3.4', 'lion@lion.com', '어흥']\n"
          ],
          "name": "stdout"
        }
      ]
    },
    {
      "cell_type": "code",
      "metadata": {
        "colab": {
          "base_uri": "https://localhost:8080/"
        },
        "id": "nNzEBhDPJPko",
        "outputId": "2e9fed96-ecff-4b36-90bf-0ffa2e9f3033"
      },
      "source": [
        "import csv\r\n",
        "with open('member3-1.csv',encoding=\"UTF8\") as f:\r\n",
        "  dict_reader = csv.DictReader(f)\r\n",
        "  for row in dict_reader:\r\n",
        "    print(row[\"Name\"], row[\"Age\"], row[\"Email\"], row[\"Address\"])\r\n",
        "    print(row)"
      ],
      "execution_count": 28,
      "outputs": [
        {
          "output_type": "stream",
          "text": [
            "애옹이 2 cat@cat.com 애옹시\n",
            "OrderedDict([('Name', '애옹이'), ('Age', '2'), ('Email', 'cat@cat.com'), ('Address', '애옹시')])\n",
            "멍뭉이 3 dog@dog.com 멍뭉시\n",
            "OrderedDict([('Name', '멍뭉이'), ('Age', '3'), ('Email', 'dog@dog.com'), ('Address', '멍뭉시')])\n"
          ],
          "name": "stdout"
        }
      ]
    },
    {
      "cell_type": "code",
      "metadata": {
        "colab": {
          "base_uri": "https://localhost:8080/"
        },
        "id": "GhWBVhBRLDbd",
        "outputId": "fde97310-eb4a-4163-ccf7-ebd37ff62f7a"
      },
      "source": [
        "import csv\r\n",
        "with open('member1.csv', encoding=\"UTF8\") as f:\r\n",
        "  dict_reader = csv.DictReader(f, fieldnames=['Name', 'Age', 'Email', 'Address'])\r\n",
        "  for row in dict_reader : print(row['Name'], row['Age'], row['Email'], row['Address'])"
      ],
      "execution_count": 29,
      "outputs": [
        {
          "output_type": "stream",
          "text": [
            "비둘기 4.4 pigeons@pi.com 구구\n",
            "빅애옹 3.4 lion@lion.com 어흥\n"
          ],
          "name": "stdout"
        }
      ]
    },
    {
      "cell_type": "code",
      "metadata": {
        "colab": {
          "base_uri": "https://localhost:8080/"
        },
        "id": "ges1dp5WN-be",
        "outputId": "4a6886a1-35fa-4509-a680-5376c5ed8c81"
      },
      "source": [
        "import csv\r\n",
        "with open('member1.csv', encoding=\"UTF8\") as f:\r\n",
        "  dict_reader = csv.DictReader(f, fieldnames=['Name', 'Age', 'Email'], restkey=\"Etc\", restval=\"없음\")\r\n",
        "  for row in dict_reader : print(row['Name'], row['Age'], row['Email'], row['Etc'])"
      ],
      "execution_count": 34,
      "outputs": [
        {
          "output_type": "stream",
          "text": [
            "멍뭉이  dog@dog.com ['멍뭉']\n",
            "애옹이 4 cat@cat.com ['애옹']\n"
          ],
          "name": "stdout"
        }
      ]
    },
    {
      "cell_type": "code",
      "metadata": {
        "colab": {
          "base_uri": "https://localhost:8080/"
        },
        "id": "vYxhBHljPxsX",
        "outputId": "48a7a429-073b-4627-faf7-521d3f1b1a31"
      },
      "source": [
        "import csv\r\n",
        "with open('member1.csv', encoding=\"UTF8\") as f:\r\n",
        "  dict_reader = csv.DictReader(f,restval=\"없음\")\r\n",
        "  for row in dict_reader:\r\n",
        "    print(row)\r\n",
        "  "
      ],
      "execution_count": 36,
      "outputs": [
        {
          "output_type": "stream",
          "text": [
            "OrderedDict([('멍뭉이', '애옹이'), ('', '4'), ('dog@dog.com', 'cat@cat.com'), ('멍뭉', '애옹')])\n"
          ],
          "name": "stdout"
        }
      ]
    },
    {
      "cell_type": "code",
      "metadata": {
        "id": "cpt3Og-uTtuG"
      },
      "source": [
        "user1 = {\"Name\":\"홍길동\", \"Age\":20,\"Email\":\"kil@hong.com\",\"Address\":\"서울 강동\"}\r\n",
        "user2 = {\"Name\":\"홍길서\", \"Age\":40,\"Email\":\"kil2@hong.com\",\"Address\":\"서울 강서\"}"
      ],
      "execution_count": 37,
      "outputs": []
    },
    {
      "cell_type": "code",
      "metadata": {
        "id": "qWd43ZZHTH7H"
      },
      "source": [
        "with open('member4.csv', 'w', newline='', encoding='utf8') as f:\r\n",
        "  fieldnames=['Name', 'Age', 'Email', 'Address']\r\n",
        "  dict_writer = csv.DictWriter(f, fieldnames=fieldnames)\r\n",
        "  dict_writer.writeheader()\r\n",
        "  dict_writer.writerow(user1)"
      ],
      "execution_count": 38,
      "outputs": []
    },
    {
      "cell_type": "code",
      "metadata": {
        "id": "L6-TiQk0TuPd"
      },
      "source": [
        "user_list = [{\"Name\":\"홍길동\", \"Age\":20,\"Email\":\"kil@hong.com\",\"Address\":\"서울 강동\"}\r\n",
        ",{\"Name\":\"홍길서\", \"Age\":40,\"Email\":\"kil2@hong.com\",\"Address\":\"서울 강서\"}]"
      ],
      "execution_count": 39,
      "outputs": []
    },
    {
      "cell_type": "code",
      "metadata": {
        "id": "kwqTDvNLT3zs"
      },
      "source": [
        "with open('member5.csv', 'w', newline='',encoding='utf8') as f:\r\n",
        "  fieldnames = ['Name', 'Age','Email', 'Address']\r\n",
        "  dict_writer = csv.DictWriter(f, fieldnames=fieldnames)\r\n",
        "  dict_writer.writeheader()\r\n",
        "  dict_writer.writerows(user_list)"
      ],
      "execution_count": 44,
      "outputs": []
    },
    {
      "cell_type": "code",
      "metadata": {
        "id": "5yI65ZOMVSRa"
      },
      "source": [
        "data = ['foo', {'bar':('baz', None, 1.0, 2)}]"
      ],
      "execution_count": 45,
      "outputs": []
    },
    {
      "cell_type": "code",
      "metadata": {
        "id": "bxqtM08dUWwt"
      },
      "source": [
        "import json\r\n",
        "with open('sample.json', 'w') as jsonfile:\r\n",
        "  json.dump(data, jsonfile, indent='\\t')"
      ],
      "execution_count": 49,
      "outputs": []
    },
    {
      "cell_type": "code",
      "metadata": {
        "colab": {
          "base_uri": "https://localhost:8080/"
        },
        "id": "yVrnb7gSVRnh",
        "outputId": "6f4acf65-fa23-4cee-d43a-1f06783043d5"
      },
      "source": [
        "pip install cx_Oracle"
      ],
      "execution_count": 50,
      "outputs": [
        {
          "output_type": "stream",
          "text": [
            "Collecting cx_Oracle\n",
            "\u001b[?25l  Downloading https://files.pythonhosted.org/packages/87/fb/a7695553a831e79bec8d201211b489fa4c6e44d3c53828a94405ae184ca6/cx_Oracle-8.1.0-cp36-cp36m-manylinux1_x86_64.whl (803kB)\n",
            "\u001b[K     |████████████████████████████████| 808kB 5.8MB/s \n",
            "\u001b[?25hInstalling collected packages: cx-Oracle\n",
            "Successfully installed cx-Oracle-8.1.0\n"
          ],
          "name": "stdout"
        }
      ]
    },
    {
      "cell_type": "code",
      "metadata": {
        "id": "chqPkeOFVLSy"
      },
      "source": [
        "import cx_Oracle"
      ],
      "execution_count": 51,
      "outputs": []
    },
    {
      "cell_type": "code",
      "metadata": {
        "colab": {
          "base_uri": "https://localhost:8080/",
          "height": 35
        },
        "id": "A873FQ2mczGk",
        "outputId": "0899a8a0-2640-49f6-e8b7-48dffbf2589f"
      },
      "source": [
        "oracle_dsn = cx_Oracle.makedsn(host=\"localhost\", port=1521, sid=\"xe\")\r\n",
        "oracle_dsn"
      ],
      "execution_count": 55,
      "outputs": [
        {
          "output_type": "execute_result",
          "data": {
            "application/vnd.google.colaboratory.intrinsic+json": {
              "type": "string"
            },
            "text/plain": [
              "'(DESCRIPTION=(ADDRESS=(PROTOCOL=TCP)(HOST=localhost)(PORT=1521))(CONNECT_DATA=(SID=xe)))'"
            ]
          },
          "metadata": {
            "tags": []
          },
          "execution_count": 55
        }
      ]
    },
    {
      "cell_type": "code",
      "metadata": {
        "colab": {
          "base_uri": "https://localhost:8080/",
          "height": 208
        },
        "id": "E_Xp7vmJc-gT",
        "outputId": "e02d5dd3-ee20-4f35-c516-9b0a991e93a9"
      },
      "source": [
        "conn = cx_Oracle.connect(dsn=oracle_dsn, user=\"hr\", password=\"12345\")\r\n",
        "conn"
      ],
      "execution_count": 56,
      "outputs": [
        {
          "output_type": "error",
          "ename": "DatabaseError",
          "evalue": "ignored",
          "traceback": [
            "\u001b[0;31m---------------------------------------------------------------------------\u001b[0m",
            "\u001b[0;31mDatabaseError\u001b[0m                             Traceback (most recent call last)",
            "\u001b[0;32m<ipython-input-56-1997d95b929d>\u001b[0m in \u001b[0;36m<module>\u001b[0;34m()\u001b[0m\n\u001b[0;32m----> 1\u001b[0;31m \u001b[0mconn\u001b[0m \u001b[0;34m=\u001b[0m \u001b[0mcx_Oracle\u001b[0m\u001b[0;34m.\u001b[0m\u001b[0mconnect\u001b[0m\u001b[0;34m(\u001b[0m\u001b[0mdsn\u001b[0m\u001b[0;34m=\u001b[0m\u001b[0moracle_dsn\u001b[0m\u001b[0;34m,\u001b[0m \u001b[0muser\u001b[0m\u001b[0;34m=\u001b[0m\u001b[0;34m\"hr\"\u001b[0m\u001b[0;34m,\u001b[0m \u001b[0mpassword\u001b[0m\u001b[0;34m=\u001b[0m\u001b[0;34m\"12345\"\u001b[0m\u001b[0;34m)\u001b[0m\u001b[0;34m\u001b[0m\u001b[0;34m\u001b[0m\u001b[0m\n\u001b[0m\u001b[1;32m      2\u001b[0m \u001b[0mconn\u001b[0m\u001b[0;34m\u001b[0m\u001b[0;34m\u001b[0m\u001b[0m\n",
            "\u001b[0;31mDatabaseError\u001b[0m: DPI-1047: Cannot locate a 64-bit Oracle Client library: \"libclntsh.so: cannot open shared object file: No such file or directory\". See https://cx-oracle.readthedocs.io/en/latest/user_guide/installation.html for help"
          ]
        }
      ]
    },
    {
      "cell_type": "code",
      "metadata": {
        "id": "8xBwluQddFqL"
      },
      "source": [
        ""
      ],
      "execution_count": null,
      "outputs": []
    }
  ]
}